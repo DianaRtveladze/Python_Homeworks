{
  "cells": [
    {
      "cell_type": "markdown",
      "source": [
        "# დავალება 4"
      ],
      "metadata": {},
      "id": "a0642e92"
    },
    {
      "cell_type": "markdown",
      "source": [
        "1. დაწერეთ პითონის კოდი, რომელიც იღებს სტრიქონს და აბრუნებს სტრიქონის UTF-8 დაშიფრულ ვერსიას."
      ],
      "metadata": {},
      "id": "02944db8"
    },
    {
      "cell_type": "code",
      "source": [
        "import base64\n",
        "\n",
        "input_str = input(\"Enter text: \")\n",
        "utf8_bytes = input_str.encode('utf-8')\n",
        "encoded_str = base64.b64encode(utf8_bytes).decode('utf-8')\n",
        "print(input_str)\n",
        "print(encoded_str)\n"
      ],
      "outputs": [
        {
          "output_type": "stream",
          "name": "stdout",
          "text": "Enter text: tyy\nშემოსული სტრიქონი: tyy\nUTF-8 დაშიფრული ვერსია: dHl5\n"
        }
      ],
      "execution_count": 5,
      "metadata": {},
      "id": "0b50a2b0"
    },
    {
      "cell_type": "markdown",
      "source": [
        "2. დაწერეთ პითონის კოდი, რომელიც იღებს სტრიქონს. ჩამოაშორეთ ზედმეტი ინტერვალები. ყველა სიმბოლო გადაიყვანეთ პატარა ასოებში და დაუმატეთ ქვესტრიქონი 'Python'. თუ შეყვანილ სტრიქონში არსებობს სიტყვა \"python\", ჩაანაცვლეთ \"Python\"-ით.\n",
        "\n",
        "  მინიშნება: ზედმეტი ინტერვალების ჩამოსაშორებელი მეთოდია `.strip()`.\n",
        "\n",
        "  მაგ.:\n",
        "\n",
        "  ```python\n",
        "  \"  Python is funny     \".strip()   ====>  \"Python is funny\"\n",
        "  ```"
      ],
      "metadata": {},
      "id": "269f95d5"
    },
    {
      "cell_type": "code",
      "source": [
        "text = input(\"Enter text: \")\n",
        "\n",
        "text_without_intervals = text.strip()\n",
        "lower_text = text_without_intervals.lower()\n",
        "withPython = lower_text + \"Python\"\n",
        "\n",
        "if \"python\" in withPython:\n",
        "    withPython = withPython.replace(\"python\", \"Python\")\n",
        "else:\n",
        "    pass; \n",
        "\n",
        "print(withPython)"
      ],
      "outputs": [
        {
          "output_type": "stream",
          "name": "stdout",
          "text": "Enter text: we\nwePython\n"
        }
      ],
      "execution_count": 10,
      "metadata": {},
      "id": "c90d79e3"
    },
    {
      "cell_type": "markdown",
      "source": [
        "3. დაწერეთ პითონის კოდი, რომელიც იღებს სტრიქონს და აბრუნებს ახალ სტრიქონს, რომელიც შედგება შეყვანილი სტრიქონის პირველი ნახევრისაგან."
      ],
      "metadata": {},
      "id": "ffd5f568"
    },
    {
      "cell_type": "code",
      "source": [
        "text = input(\"Enter text: \")\n",
        "\n",
        "half = int(len(text)/2)\n",
        "formatedText = text[:half]\n",
        "\n",
        "print(formatedText)"
      ],
      "outputs": [
        {
          "output_type": "stream",
          "name": "stdout",
          "text": "Enter text: www\nw\n"
        }
      ],
      "execution_count": 14,
      "metadata": {},
      "id": "e85f2917"
    },
    {
      "cell_type": "markdown",
      "source": [
        "4. დაწერეთ პითონის კოდი, რომელიც იღებს სტრიქონს. string მოდულის გამოყენებით დაწერეთ შემოწმება. სტრიქონი ვალიდურია მაშინ, როდესაც ის შეიცავს ერთ ციფრს და არ არის დამატებითი სიმბოლოები ('!', '~', '#', '$' და ა.შ.)"
      ],
      "metadata": {},
      "id": "8ea5ae87"
    },
    {
      "cell_type": "code",
      "source": [],
      "outputs": [],
      "execution_count": null,
      "metadata": {},
      "id": "de7e7d09"
    },
    {
      "cell_type": "markdown",
      "source": [
        "5. დაწერეთ პითონის კოდი, რომელიც იღებს სტრიქონს, სტრიქონი გადაყავს ბაიტებში, ბეჭდავს მნიშვნელობას და შემდეგ კი გადაყავს ბაიტებიდან სტრიქონში და ბეჭდავს სტრიქონს."
      ],
      "metadata": {},
      "id": "e1b5bfb9"
    },
    {
      "cell_type": "code",
      "source": [
        "text = input(\"Enter text: \")\n",
        "\n",
        "byte_data = text.encode('UTF-16')\n",
        "print(\"Bytes representation:\", byte_data)\n",
        "decoded_text = byte_data.decode('UTF-16')\n",
        "print(\"Converted string:\", decoded_text)\n",
        "\n"
      ],
      "outputs": [
        {
          "output_type": "stream",
          "name": "stdout",
          "text": "Enter text: 22\nBytes representation: b'\\xff\\xfe2\\x002\\x00'\nConverted string: 22\n"
        }
      ],
      "execution_count": 22,
      "metadata": {},
      "id": "5afbefc7"
    }
  ],
  "metadata": {
    "kernelspec": {
      "name": "python",
      "language": "python",
      "display_name": "Pyolite (preview)"
    },
    "language_info": {
      "codemirror_mode": {
        "name": "python",
        "version": 3
      },
      "file_extension": ".py",
      "mimetype": "text/x-python",
      "name": "python",
      "nbconvert_exporter": "python",
      "pygments_lexer": "ipython3",
      "version": "3.8"
    },
    "nteract": {
      "version": "nteract-front-end@1.0.0"
    },
    "kernel_info": {
      "name": "python"
    }
  },
  "nbformat": 4,
  "nbformat_minor": 5
}